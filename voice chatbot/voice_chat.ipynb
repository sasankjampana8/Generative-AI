{
 "cells": [
  {
   "cell_type": "code",
   "execution_count": 1,
   "metadata": {},
   "outputs": [
    {
     "name": "stdout",
     "output_type": "stream",
     "text": [
      "Collecting audio-recorder-streamlit\n",
      "  Downloading audio_recorder_streamlit-0.0.10-py3-none-any.whl.metadata (4.3 kB)\n",
      "Requirement already satisfied: streamlit>=1.12.0 in /home/jampanasasank/Documents/GenAI/genaienv/lib/python3.10/site-packages (from audio-recorder-streamlit) (1.39.0)\n",
      "Collecting altair<5 (from audio-recorder-streamlit)\n",
      "  Downloading altair-4.2.2-py3-none-any.whl.metadata (13 kB)\n",
      "Collecting entrypoints (from altair<5->audio-recorder-streamlit)\n",
      "  Downloading entrypoints-0.4-py3-none-any.whl.metadata (2.6 kB)\n",
      "Requirement already satisfied: jinja2 in /home/jampanasasank/Documents/GenAI/genaienv/lib/python3.10/site-packages (from altair<5->audio-recorder-streamlit) (3.1.4)\n",
      "Requirement already satisfied: jsonschema>=3.0 in /home/jampanasasank/Documents/GenAI/genaienv/lib/python3.10/site-packages (from altair<5->audio-recorder-streamlit) (4.23.0)\n",
      "Requirement already satisfied: numpy in /home/jampanasasank/Documents/GenAI/genaienv/lib/python3.10/site-packages (from altair<5->audio-recorder-streamlit) (1.26.4)\n",
      "Requirement already satisfied: pandas>=0.18 in /home/jampanasasank/Documents/GenAI/genaienv/lib/python3.10/site-packages (from altair<5->audio-recorder-streamlit) (2.2.2)\n",
      "Collecting toolz (from altair<5->audio-recorder-streamlit)\n",
      "  Downloading toolz-1.0.0-py3-none-any.whl.metadata (5.1 kB)\n",
      "Requirement already satisfied: blinker<2,>=1.0.0 in /home/jampanasasank/Documents/GenAI/genaienv/lib/python3.10/site-packages (from streamlit>=1.12.0->audio-recorder-streamlit) (1.8.2)\n",
      "Requirement already satisfied: cachetools<6,>=4.0 in /home/jampanasasank/Documents/GenAI/genaienv/lib/python3.10/site-packages (from streamlit>=1.12.0->audio-recorder-streamlit) (5.4.0)\n",
      "Requirement already satisfied: click<9,>=7.0 in /home/jampanasasank/Documents/GenAI/genaienv/lib/python3.10/site-packages (from streamlit>=1.12.0->audio-recorder-streamlit) (8.1.7)\n",
      "Requirement already satisfied: packaging<25,>=20 in /home/jampanasasank/Documents/GenAI/genaienv/lib/python3.10/site-packages (from streamlit>=1.12.0->audio-recorder-streamlit) (23.2)\n",
      "Requirement already satisfied: pillow<11,>=7.1.0 in /home/jampanasasank/Documents/GenAI/genaienv/lib/python3.10/site-packages (from streamlit>=1.12.0->audio-recorder-streamlit) (10.4.0)\n",
      "Requirement already satisfied: protobuf<6,>=3.20 in /home/jampanasasank/Documents/GenAI/genaienv/lib/python3.10/site-packages (from streamlit>=1.12.0->audio-recorder-streamlit) (4.25.4)\n",
      "Requirement already satisfied: pyarrow>=7.0 in /home/jampanasasank/Documents/GenAI/genaienv/lib/python3.10/site-packages (from streamlit>=1.12.0->audio-recorder-streamlit) (17.0.0)\n",
      "Requirement already satisfied: requests<3,>=2.27 in /home/jampanasasank/Documents/GenAI/genaienv/lib/python3.10/site-packages (from streamlit>=1.12.0->audio-recorder-streamlit) (2.32.3)\n",
      "Requirement already satisfied: rich<14,>=10.14.0 in /home/jampanasasank/Documents/GenAI/genaienv/lib/python3.10/site-packages (from streamlit>=1.12.0->audio-recorder-streamlit) (13.7.1)\n",
      "Requirement already satisfied: tenacity<10,>=8.1.0 in /home/jampanasasank/Documents/GenAI/genaienv/lib/python3.10/site-packages (from streamlit>=1.12.0->audio-recorder-streamlit) (8.5.0)\n",
      "Requirement already satisfied: toml<2,>=0.10.1 in /home/jampanasasank/Documents/GenAI/genaienv/lib/python3.10/site-packages (from streamlit>=1.12.0->audio-recorder-streamlit) (0.10.2)\n",
      "Requirement already satisfied: typing-extensions<5,>=4.3.0 in /home/jampanasasank/Documents/GenAI/genaienv/lib/python3.10/site-packages (from streamlit>=1.12.0->audio-recorder-streamlit) (4.12.2)\n",
      "Requirement already satisfied: gitpython!=3.1.19,<4,>=3.0.7 in /home/jampanasasank/Documents/GenAI/genaienv/lib/python3.10/site-packages (from streamlit>=1.12.0->audio-recorder-streamlit) (3.1.43)\n",
      "Requirement already satisfied: pydeck<1,>=0.8.0b4 in /home/jampanasasank/Documents/GenAI/genaienv/lib/python3.10/site-packages (from streamlit>=1.12.0->audio-recorder-streamlit) (0.9.1)\n",
      "Requirement already satisfied: tornado<7,>=6.0.3 in /home/jampanasasank/Documents/GenAI/genaienv/lib/python3.10/site-packages (from streamlit>=1.12.0->audio-recorder-streamlit) (6.4.1)\n",
      "Requirement already satisfied: watchdog<6,>=2.1.5 in /home/jampanasasank/Documents/GenAI/genaienv/lib/python3.10/site-packages (from streamlit>=1.12.0->audio-recorder-streamlit) (5.0.3)\n",
      "Requirement already satisfied: gitdb<5,>=4.0.1 in /home/jampanasasank/Documents/GenAI/genaienv/lib/python3.10/site-packages (from gitpython!=3.1.19,<4,>=3.0.7->streamlit>=1.12.0->audio-recorder-streamlit) (4.0.11)\n",
      "Requirement already satisfied: attrs>=22.2.0 in /home/jampanasasank/Documents/GenAI/genaienv/lib/python3.10/site-packages (from jsonschema>=3.0->altair<5->audio-recorder-streamlit) (23.2.0)\n",
      "Requirement already satisfied: jsonschema-specifications>=2023.03.6 in /home/jampanasasank/Documents/GenAI/genaienv/lib/python3.10/site-packages (from jsonschema>=3.0->altair<5->audio-recorder-streamlit) (2023.12.1)\n",
      "Requirement already satisfied: referencing>=0.28.4 in /home/jampanasasank/Documents/GenAI/genaienv/lib/python3.10/site-packages (from jsonschema>=3.0->altair<5->audio-recorder-streamlit) (0.35.1)\n",
      "Requirement already satisfied: rpds-py>=0.7.1 in /home/jampanasasank/Documents/GenAI/genaienv/lib/python3.10/site-packages (from jsonschema>=3.0->altair<5->audio-recorder-streamlit) (0.20.0)\n",
      "Requirement already satisfied: python-dateutil>=2.8.2 in /home/jampanasasank/Documents/GenAI/genaienv/lib/python3.10/site-packages (from pandas>=0.18->altair<5->audio-recorder-streamlit) (2.9.0.post0)\n",
      "Requirement already satisfied: pytz>=2020.1 in /home/jampanasasank/Documents/GenAI/genaienv/lib/python3.10/site-packages (from pandas>=0.18->altair<5->audio-recorder-streamlit) (2024.1)\n",
      "Requirement already satisfied: tzdata>=2022.7 in /home/jampanasasank/Documents/GenAI/genaienv/lib/python3.10/site-packages (from pandas>=0.18->altair<5->audio-recorder-streamlit) (2024.1)\n",
      "Requirement already satisfied: MarkupSafe>=2.0 in /home/jampanasasank/Documents/GenAI/genaienv/lib/python3.10/site-packages (from jinja2->altair<5->audio-recorder-streamlit) (2.1.5)\n",
      "Requirement already satisfied: charset-normalizer<4,>=2 in /home/jampanasasank/Documents/GenAI/genaienv/lib/python3.10/site-packages (from requests<3,>=2.27->streamlit>=1.12.0->audio-recorder-streamlit) (3.3.2)\n",
      "Requirement already satisfied: idna<4,>=2.5 in /home/jampanasasank/Documents/GenAI/genaienv/lib/python3.10/site-packages (from requests<3,>=2.27->streamlit>=1.12.0->audio-recorder-streamlit) (3.7)\n",
      "Requirement already satisfied: urllib3<3,>=1.21.1 in /home/jampanasasank/Documents/GenAI/genaienv/lib/python3.10/site-packages (from requests<3,>=2.27->streamlit>=1.12.0->audio-recorder-streamlit) (2.2.2)\n",
      "Requirement already satisfied: certifi>=2017.4.17 in /home/jampanasasank/Documents/GenAI/genaienv/lib/python3.10/site-packages (from requests<3,>=2.27->streamlit>=1.12.0->audio-recorder-streamlit) (2024.7.4)\n",
      "Requirement already satisfied: markdown-it-py>=2.2.0 in /home/jampanasasank/Documents/GenAI/genaienv/lib/python3.10/site-packages (from rich<14,>=10.14.0->streamlit>=1.12.0->audio-recorder-streamlit) (3.0.0)\n",
      "Requirement already satisfied: pygments<3.0.0,>=2.13.0 in /home/jampanasasank/Documents/GenAI/genaienv/lib/python3.10/site-packages (from rich<14,>=10.14.0->streamlit>=1.12.0->audio-recorder-streamlit) (2.18.0)\n",
      "Requirement already satisfied: smmap<6,>=3.0.1 in /home/jampanasasank/Documents/GenAI/genaienv/lib/python3.10/site-packages (from gitdb<5,>=4.0.1->gitpython!=3.1.19,<4,>=3.0.7->streamlit>=1.12.0->audio-recorder-streamlit) (5.0.1)\n",
      "Requirement already satisfied: mdurl~=0.1 in /home/jampanasasank/Documents/GenAI/genaienv/lib/python3.10/site-packages (from markdown-it-py>=2.2.0->rich<14,>=10.14.0->streamlit>=1.12.0->audio-recorder-streamlit) (0.1.2)\n",
      "Requirement already satisfied: six>=1.5 in /home/jampanasasank/Documents/GenAI/genaienv/lib/python3.10/site-packages (from python-dateutil>=2.8.2->pandas>=0.18->altair<5->audio-recorder-streamlit) (1.16.0)\n",
      "Downloading audio_recorder_streamlit-0.0.10-py3-none-any.whl (3.7 MB)\n",
      "\u001b[2K   \u001b[90m━━━━━━━━━━━━━━━━━━━━━━━━━━━━━━━━━━━━━━━━\u001b[0m \u001b[32m3.7/3.7 MB\u001b[0m \u001b[31m4.9 MB/s\u001b[0m eta \u001b[36m0:00:00\u001b[0mta \u001b[36m0:00:01\u001b[0m\n",
      "\u001b[?25hDownloading altair-4.2.2-py3-none-any.whl (813 kB)\n",
      "\u001b[2K   \u001b[90m━━━━━━━━━━━━━━━━━━━━━━━━━━━━━━━━━━━━━━━━\u001b[0m \u001b[32m813.6/813.6 kB\u001b[0m \u001b[31m24.5 MB/s\u001b[0m eta \u001b[36m0:00:00\u001b[0m\n",
      "\u001b[?25hDownloading entrypoints-0.4-py3-none-any.whl (5.3 kB)\n",
      "Downloading toolz-1.0.0-py3-none-any.whl (56 kB)\n",
      "Installing collected packages: toolz, entrypoints, altair, audio-recorder-streamlit\n",
      "  Attempting uninstall: altair\n",
      "    Found existing installation: altair 5.4.1\n",
      "    Uninstalling altair-5.4.1:\n",
      "      Successfully uninstalled altair-5.4.1\n",
      "Successfully installed altair-4.2.2 audio-recorder-streamlit-0.0.10 entrypoints-0.4 toolz-1.0.0\n",
      "Note: you may need to restart the kernel to use updated packages.\n"
     ]
    }
   ],
   "source": [
    "%pip install audio-recorder-streamlit"
   ]
  },
  {
   "cell_type": "code",
   "execution_count": 2,
   "metadata": {},
   "outputs": [
    {
     "name": "stdout",
     "output_type": "stream",
     "text": [
      "Collecting openai-whisper\n",
      "  Downloading openai-whisper-20240930.tar.gz (800 kB)\n",
      "\u001b[2K     \u001b[90m━━━━━━━━━━━━━━━━━━━━━━━━━━━━━━━━━━━━━━\u001b[0m \u001b[32m800.5/800.5 kB\u001b[0m \u001b[31m12.6 MB/s\u001b[0m eta \u001b[36m0:00:00\u001b[0m\n",
      "\u001b[?25h  Installing build dependencies ... \u001b[?25ldone\n",
      "\u001b[?25h  Getting requirements to build wheel ... \u001b[?25ldone\n",
      "\u001b[?25h  Preparing metadata (pyproject.toml) ... \u001b[?25ldone\n",
      "\u001b[?25hCollecting numba (from openai-whisper)\n",
      "  Downloading numba-0.60.0-cp310-cp310-manylinux2014_x86_64.manylinux_2_17_x86_64.whl.metadata (2.7 kB)\n",
      "Requirement already satisfied: numpy in /home/jampanasasank/Documents/GenAI/genaienv/lib/python3.10/site-packages (from openai-whisper) (1.26.4)\n",
      "Requirement already satisfied: torch in /home/jampanasasank/Documents/GenAI/genaienv/lib/python3.10/site-packages (from openai-whisper) (2.5.0)\n",
      "Requirement already satisfied: tqdm in /home/jampanasasank/Documents/GenAI/genaienv/lib/python3.10/site-packages (from openai-whisper) (4.66.4)\n",
      "Requirement already satisfied: more-itertools in /home/jampanasasank/Documents/GenAI/genaienv/lib/python3.10/site-packages (from openai-whisper) (10.5.0)\n",
      "Requirement already satisfied: tiktoken in /home/jampanasasank/Documents/GenAI/genaienv/lib/python3.10/site-packages (from openai-whisper) (0.7.0)\n",
      "Requirement already satisfied: triton>=2.0.0 in /home/jampanasasank/Documents/GenAI/genaienv/lib/python3.10/site-packages (from openai-whisper) (3.1.0)\n",
      "Requirement already satisfied: filelock in /home/jampanasasank/Documents/GenAI/genaienv/lib/python3.10/site-packages (from triton>=2.0.0->openai-whisper) (3.15.4)\n",
      "Collecting llvmlite<0.44,>=0.43.0dev0 (from numba->openai-whisper)\n",
      "  Downloading llvmlite-0.43.0-cp310-cp310-manylinux_2_17_x86_64.manylinux2014_x86_64.whl.metadata (4.8 kB)\n",
      "Requirement already satisfied: regex>=2022.1.18 in /home/jampanasasank/Documents/GenAI/genaienv/lib/python3.10/site-packages (from tiktoken->openai-whisper) (2024.9.11)\n",
      "Requirement already satisfied: requests>=2.26.0 in /home/jampanasasank/Documents/GenAI/genaienv/lib/python3.10/site-packages (from tiktoken->openai-whisper) (2.32.3)\n",
      "Requirement already satisfied: typing-extensions>=4.8.0 in /home/jampanasasank/Documents/GenAI/genaienv/lib/python3.10/site-packages (from torch->openai-whisper) (4.12.2)\n",
      "Requirement already satisfied: networkx in /home/jampanasasank/Documents/GenAI/genaienv/lib/python3.10/site-packages (from torch->openai-whisper) (3.4.1)\n",
      "Requirement already satisfied: jinja2 in /home/jampanasasank/Documents/GenAI/genaienv/lib/python3.10/site-packages (from torch->openai-whisper) (3.1.4)\n",
      "Requirement already satisfied: fsspec in /home/jampanasasank/Documents/GenAI/genaienv/lib/python3.10/site-packages (from torch->openai-whisper) (2024.6.1)\n",
      "Requirement already satisfied: nvidia-cuda-nvrtc-cu12==12.4.127 in /home/jampanasasank/Documents/GenAI/genaienv/lib/python3.10/site-packages (from torch->openai-whisper) (12.4.127)\n",
      "Requirement already satisfied: nvidia-cuda-runtime-cu12==12.4.127 in /home/jampanasasank/Documents/GenAI/genaienv/lib/python3.10/site-packages (from torch->openai-whisper) (12.4.127)\n",
      "Requirement already satisfied: nvidia-cuda-cupti-cu12==12.4.127 in /home/jampanasasank/Documents/GenAI/genaienv/lib/python3.10/site-packages (from torch->openai-whisper) (12.4.127)\n",
      "Requirement already satisfied: nvidia-cudnn-cu12==9.1.0.70 in /home/jampanasasank/Documents/GenAI/genaienv/lib/python3.10/site-packages (from torch->openai-whisper) (9.1.0.70)\n",
      "Requirement already satisfied: nvidia-cublas-cu12==12.4.5.8 in /home/jampanasasank/Documents/GenAI/genaienv/lib/python3.10/site-packages (from torch->openai-whisper) (12.4.5.8)\n",
      "Requirement already satisfied: nvidia-cufft-cu12==11.2.1.3 in /home/jampanasasank/Documents/GenAI/genaienv/lib/python3.10/site-packages (from torch->openai-whisper) (11.2.1.3)\n",
      "Requirement already satisfied: nvidia-curand-cu12==10.3.5.147 in /home/jampanasasank/Documents/GenAI/genaienv/lib/python3.10/site-packages (from torch->openai-whisper) (10.3.5.147)\n",
      "Requirement already satisfied: nvidia-cusolver-cu12==11.6.1.9 in /home/jampanasasank/Documents/GenAI/genaienv/lib/python3.10/site-packages (from torch->openai-whisper) (11.6.1.9)\n",
      "Requirement already satisfied: nvidia-cusparse-cu12==12.3.1.170 in /home/jampanasasank/Documents/GenAI/genaienv/lib/python3.10/site-packages (from torch->openai-whisper) (12.3.1.170)\n",
      "Requirement already satisfied: nvidia-nccl-cu12==2.21.5 in /home/jampanasasank/Documents/GenAI/genaienv/lib/python3.10/site-packages (from torch->openai-whisper) (2.21.5)\n",
      "Requirement already satisfied: nvidia-nvtx-cu12==12.4.127 in /home/jampanasasank/Documents/GenAI/genaienv/lib/python3.10/site-packages (from torch->openai-whisper) (12.4.127)\n",
      "Requirement already satisfied: nvidia-nvjitlink-cu12==12.4.127 in /home/jampanasasank/Documents/GenAI/genaienv/lib/python3.10/site-packages (from torch->openai-whisper) (12.4.127)\n",
      "Requirement already satisfied: sympy==1.13.1 in /home/jampanasasank/Documents/GenAI/genaienv/lib/python3.10/site-packages (from torch->openai-whisper) (1.13.1)\n",
      "Requirement already satisfied: mpmath<1.4,>=1.1.0 in /home/jampanasasank/Documents/GenAI/genaienv/lib/python3.10/site-packages (from sympy==1.13.1->torch->openai-whisper) (1.3.0)\n",
      "Requirement already satisfied: charset-normalizer<4,>=2 in /home/jampanasasank/Documents/GenAI/genaienv/lib/python3.10/site-packages (from requests>=2.26.0->tiktoken->openai-whisper) (3.3.2)\n",
      "Requirement already satisfied: idna<4,>=2.5 in /home/jampanasasank/Documents/GenAI/genaienv/lib/python3.10/site-packages (from requests>=2.26.0->tiktoken->openai-whisper) (3.7)\n",
      "Requirement already satisfied: urllib3<3,>=1.21.1 in /home/jampanasasank/Documents/GenAI/genaienv/lib/python3.10/site-packages (from requests>=2.26.0->tiktoken->openai-whisper) (2.2.2)\n",
      "Requirement already satisfied: certifi>=2017.4.17 in /home/jampanasasank/Documents/GenAI/genaienv/lib/python3.10/site-packages (from requests>=2.26.0->tiktoken->openai-whisper) (2024.7.4)\n",
      "Requirement already satisfied: MarkupSafe>=2.0 in /home/jampanasasank/Documents/GenAI/genaienv/lib/python3.10/site-packages (from jinja2->torch->openai-whisper) (2.1.5)\n",
      "Downloading numba-0.60.0-cp310-cp310-manylinux2014_x86_64.manylinux_2_17_x86_64.whl (3.7 MB)\n",
      "\u001b[2K   \u001b[90m━━━━━━━━━━━━━━━━━━━━━━━━━━━━━━━━━━━━━━━━\u001b[0m \u001b[32m3.7/3.7 MB\u001b[0m \u001b[31m19.7 MB/s\u001b[0m eta \u001b[36m0:00:00\u001b[0m\n",
      "\u001b[?25hDownloading llvmlite-0.43.0-cp310-cp310-manylinux_2_17_x86_64.manylinux2014_x86_64.whl (43.9 MB)\n",
      "\u001b[2K   \u001b[90m━━━━━━━━━━━━━━━━━━━━━━━━━━━━━━━━━━━━━━━━\u001b[0m \u001b[32m43.9/43.9 MB\u001b[0m \u001b[31m12.4 MB/s\u001b[0m eta \u001b[36m0:00:00\u001b[0m00:01\u001b[0m00:01\u001b[0m\n",
      "\u001b[?25hBuilding wheels for collected packages: openai-whisper\n",
      "  Building wheel for openai-whisper (pyproject.toml) ... \u001b[?25ldone\n",
      "\u001b[?25h  Created wheel for openai-whisper: filename=openai_whisper-20240930-py3-none-any.whl size=803321 sha256=90ff87ad0ef0d7737c94f606e7f1ddce63e81a2092d80a3eccd7a3fa4b2fe338\n",
      "  Stored in directory: /home/jampanasasank/.cache/pip/wheels/dd/4a/1f/d1c4bf3b9133c8168fe617ed979cab7b14fe381d059ffb9d83\n",
      "Successfully built openai-whisper\n",
      "Installing collected packages: llvmlite, numba, openai-whisper\n",
      "Successfully installed llvmlite-0.43.0 numba-0.60.0 openai-whisper-20240930\n",
      "Note: you may need to restart the kernel to use updated packages.\n"
     ]
    }
   ],
   "source": [
    "%pip install openai-whisper"
   ]
  },
  {
   "cell_type": "code",
   "execution_count": 3,
   "metadata": {},
   "outputs": [
    {
     "name": "stdout",
     "output_type": "stream",
     "text": [
      "Collecting ffmpeg-python\n",
      "  Downloading ffmpeg_python-0.2.0-py3-none-any.whl.metadata (1.7 kB)\n",
      "Collecting future (from ffmpeg-python)\n",
      "  Downloading future-1.0.0-py3-none-any.whl.metadata (4.0 kB)\n",
      "Downloading ffmpeg_python-0.2.0-py3-none-any.whl (25 kB)\n",
      "Downloading future-1.0.0-py3-none-any.whl (491 kB)\n",
      "Installing collected packages: future, ffmpeg-python\n",
      "Successfully installed ffmpeg-python-0.2.0 future-1.0.0\n",
      "Note: you may need to restart the kernel to use updated packages.\n"
     ]
    }
   ],
   "source": [
    "%pip install ffmpeg-python"
   ]
  },
  {
   "cell_type": "code",
   "execution_count": null,
   "metadata": {},
   "outputs": [],
   "source": []
  }
 ],
 "metadata": {
  "kernelspec": {
   "display_name": "genaienv",
   "language": "python",
   "name": "python3"
  },
  "language_info": {
   "codemirror_mode": {
    "name": "ipython",
    "version": 3
   },
   "file_extension": ".py",
   "mimetype": "text/x-python",
   "name": "python",
   "nbconvert_exporter": "python",
   "pygments_lexer": "ipython3",
   "version": "3.10.12"
  }
 },
 "nbformat": 4,
 "nbformat_minor": 2
}
